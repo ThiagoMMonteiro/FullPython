{
  "nbformat": 4,
  "nbformat_minor": 0,
  "metadata": {
    "colab": {
      "name": "fullpython.ipynb",
      "provenance": [],
      "collapsed_sections": [
        "IpnrESmXATfg",
        "bzACsSGTAkJv",
        "DF_UkowjEudN",
        "IqhrFaiyFanc",
        "KMa8B57eGD0_",
        "2RtmZU8AGqCl",
        "WOwN6Pl7HGq1",
        "P1ve9zS5HlvS",
        "WnHoyU-xC0Al",
        "XkWSVcZwRsY_",
        "MIKOWrA4SCUa"
      ],
      "mount_file_id": "1w3dHBws5Xj522Uj-PVA5nukuzRp2QIlr",
      "authorship_tag": "ABX9TyOkNVFr5/+ok9nW+dHcJwdV",
      "include_colab_link": true
    },
    "kernelspec": {
      "name": "python3",
      "display_name": "Python 3"
    }
  },
  "cells": [
    {
      "cell_type": "markdown",
      "metadata": {
        "id": "view-in-github",
        "colab_type": "text"
      },
      "source": [
        "<a href=\"https://colab.research.google.com/github/ThiagoMMonteiro/FullPython/blob/master/fullpython.ipynb\" target=\"_parent\"><img src=\"https://colab.research.google.com/assets/colab-badge.svg\" alt=\"Open In Colab\"/></a>"
      ]
    },
    {
      "cell_type": "markdown",
      "metadata": {
        "id": "o3mr29FxOqRj",
        "colab_type": "text"
      },
      "source": [
        "[![author](https://img.shields.io/badge/Author-thiagommonteiro-blue)](https://www.linkedin.com/in/thiago-m-monteiro/) "
      ]
    },
    {
      "cell_type": "code",
      "metadata": {
        "id": "a-Olhzq01xde",
        "colab_type": "code",
        "colab": {}
      },
      "source": [
        "# -*- coding: utf-8 -*- (python interpreter recognize accents)"
      ],
      "execution_count": 0,
      "outputs": []
    },
    {
      "cell_type": "markdown",
      "metadata": {
        "id": "IpnrESmXATfg",
        "colab_type": "text"
      },
      "source": [
        "## **Comments**"
      ]
    },
    {
      "cell_type": "code",
      "metadata": {
        "id": "ndjQPKBl2EG8",
        "colab_type": "code",
        "colab": {}
      },
      "source": [
        "# One line comentary exemple\n",
        "\n",
        "#Multiple lines comentary exemple\n",
        "#Multiple lines comentary exemple\n",
        "#Multiple lines comentary exemple\n",
        "\n",
        "\"\"\"\n",
        "Docstrings exemple\n",
        "\"\"\""
      ],
      "execution_count": 0,
      "outputs": []
    },
    {
      "cell_type": "markdown",
      "metadata": {
        "id": "bzACsSGTAkJv",
        "colab_type": "text"
      },
      "source": [
        "##Arithmetic Operators"
      ]
    },
    {
      "cell_type": "code",
      "metadata": {
        "id": "7W-BFfGz2IFZ",
        "colab_type": "code",
        "colab": {}
      },
      "source": [
        "print (2 + 2)  #addition\n",
        "print (2 - 2)  #subtraction\n",
        "print (2 / 2)  #division\n",
        "print (2 * 2)  #multiplication\n",
        "print (2 ** 3) #exponentiation\n",
        "print (3 % 2)  #module - rest\n",
        "print (5 // 2) #floor division"
      ],
      "execution_count": 0,
      "outputs": []
    },
    {
      "cell_type": "markdown",
      "metadata": {
        "id": "DF_UkowjEudN",
        "colab_type": "text"
      },
      "source": [
        "##Relational Operators"
      ]
    },
    {
      "cell_type": "code",
      "metadata": {
        "id": "OTrB1j21Ew4W",
        "colab_type": "code",
        "colab": {}
      },
      "source": [
        "# == equal\n",
        "# != not equal\n",
        "# > greater than\n",
        "# < less than\n",
        "# >= greater than or equal to\n",
        "# <= less than or equal to"
      ],
      "execution_count": 0,
      "outputs": []
    },
    {
      "cell_type": "markdown",
      "metadata": {
        "id": "IqhrFaiyFanc",
        "colab_type": "text"
      },
      "source": [
        "##Assignment Operators"
      ]
    },
    {
      "cell_type": "code",
      "metadata": {
        "id": "c7qr--C2FdcC",
        "colab_type": "code",
        "colab": {}
      },
      "source": [
        "# = assign\n",
        "# += add and assign\n",
        "# -= subtract and assign\n",
        "# /= divide and assign\n",
        "# *= multiply and assign\n",
        "# %= modulus and assign\n",
        "# **= exponent and assign\n",
        "# //= floor-divide and assign"
      ],
      "execution_count": 0,
      "outputs": []
    },
    {
      "cell_type": "markdown",
      "metadata": {
        "id": "KMa8B57eGD0_",
        "colab_type": "text"
      },
      "source": [
        "##Logical Operators"
      ]
    },
    {
      "cell_type": "code",
      "metadata": {
        "id": "XXrSOL9qGGfq",
        "colab_type": "code",
        "colab": {}
      },
      "source": [
        "# and - both sides must be true to return true\n",
        "# or - one side must be true to return true\n",
        "# not - inverter"
      ],
      "execution_count": 0,
      "outputs": []
    },
    {
      "cell_type": "markdown",
      "metadata": {
        "id": "2RtmZU8AGqCl",
        "colab_type": "text"
      },
      "source": [
        "##Membership Operators"
      ]
    },
    {
      "cell_type": "code",
      "metadata": {
        "id": "fXDAusviGtGW",
        "colab_type": "code",
        "colab": {}
      },
      "source": [
        "# in - checks if a value is a member of a sequence\n",
        "# not in - checks if a value is not a member of a sequence"
      ],
      "execution_count": 0,
      "outputs": []
    },
    {
      "cell_type": "markdown",
      "metadata": {
        "id": "WOwN6Pl7HGq1",
        "colab_type": "text"
      },
      "source": [
        "##Identity Operators"
      ]
    },
    {
      "cell_type": "code",
      "metadata": {
        "id": "PQG7WgolHIS7",
        "colab_type": "code",
        "colab": {}
      },
      "source": [
        "# is - checks if two operands have the same identity\n",
        "# is not - checks if two operands not have the same identity"
      ],
      "execution_count": 0,
      "outputs": []
    },
    {
      "cell_type": "markdown",
      "metadata": {
        "id": "P1ve9zS5HlvS",
        "colab_type": "text"
      },
      "source": [
        "##Bitwise Operators"
      ]
    },
    {
      "cell_type": "code",
      "metadata": {
        "id": "E_4q450JHnNw",
        "colab_type": "code",
        "colab": {}
      },
      "source": [
        "# & - binary AND\n",
        "# | - binary OR\n",
        "# ^ - binary XOR\n",
        "# ~ - binary one's complement\n",
        "# << - binary left-shift\n",
        "# >> - binary right-shift"
      ],
      "execution_count": 0,
      "outputs": []
    },
    {
      "cell_type": "markdown",
      "metadata": {
        "id": "WnHoyU-xC0Al",
        "colab_type": "text"
      },
      "source": [
        "##Variables"
      ]
    },
    {
      "cell_type": "code",
      "metadata": {
        "id": "q8uJv_q1C5xq",
        "colab_type": "code",
        "colab": {}
      },
      "source": [
        "variable = 47 #int\n",
        "print(type(variable)) \n",
        "variable = 47.55 #flaot\n",
        "print(type(variable)) \n",
        "variable = \"47.55\" #str\n",
        "print(type(variable))\n",
        "variable = '47.55' #str\n",
        "print(type(variable))\n",
        "variable = True #bool\n",
        "print(type(variable))\n",
        "variable = [1, 2, 3, \"abacaxi\", 5.55, True] #list\n",
        "print(type(variable))\n",
        "variable = None #has no value (empty)\n",
        "print(type(variable)) "
      ],
      "execution_count": 0,
      "outputs": []
    },
    {
      "cell_type": "markdown",
      "metadata": {
        "id": "XkWSVcZwRsY_",
        "colab_type": "text"
      },
      "source": [
        "##Conditional Statements"
      ]
    },
    {
      "cell_type": "code",
      "metadata": {
        "id": "PsAWiLnoRuCU",
        "colab_type": "code",
        "colab": {}
      },
      "source": [
        "# IF - ELSE - ELIF\n",
        "if 10 < 5:\n",
        "\tprint(\"10 é menor do que 5!\")\n",
        "elif 10 > 5:\n",
        "\tprint(\"10 é maior do que 5!\")\n",
        "else:\n",
        "\tprint(\"São iguais!\")"
      ],
      "execution_count": 0,
      "outputs": []
    },
    {
      "cell_type": "markdown",
      "metadata": {
        "id": "MIKOWrA4SCUa",
        "colab_type": "text"
      },
      "source": [
        "##Repetition Statements"
      ]
    },
    {
      "cell_type": "code",
      "metadata": {
        "id": "MZG9oV-sSEDj",
        "colab_type": "code",
        "colab": {}
      },
      "source": [
        "# WHILE\n",
        "x = 1\n",
        "while x < 10:\n",
        "\tprint (x)\n",
        "\tx += 1\n",
        "# FOR\n",
        "lista = [10,11,12,13,14]\n",
        "for i in lista:\n",
        "\tprint (i)\n",
        "# FOR RANGE\n",
        "for i in range(5):\n",
        "\tprint(i)\n",
        "for i in range(10,15):\n",
        "\tprint(i)\n",
        "for i in range(10,15,2):\n",
        "\tprint(i)"
      ],
      "execution_count": 0,
      "outputs": []
    },
    {
      "cell_type": "markdown",
      "metadata": {
        "id": "EEqYA0hZSfS3",
        "colab_type": "text"
      },
      "source": [
        "##Strings"
      ]
    },
    {
      "cell_type": "code",
      "metadata": {
        "id": "DXv1pPIBSmAk",
        "colab_type": "code",
        "colab": {}
      },
      "source": [
        "#Concatenação\n",
        "a = \"Thiago\"\n",
        "b = \"M Monteiro\"\n",
        "c = a + \" \" + b\n",
        "print(c)\n",
        "#Tamanho de uma string\n",
        "tamanho = len(a)\n",
        "print(tamanho)\n",
        "#Impressão\n",
        "print(a[0])\n",
        "print(a[0:3])\n",
        "print(a[3:])\n",
        "#Função lower (deixa tudo em minúsculo) e upper (deixa tudo em maiúsculo)\n",
        "a = \"THIAGO\"\n",
        "print(a) \n",
        "print(a.lower())\n",
        "a = a.lower()\n",
        "print(a) \n",
        "print(a.upper()) \n",
        "#Função strip (remove espaços e caracteres especiais como quebra de linha (\\n))\n",
        "var = \"      conteudo\\n\"\n",
        "print(var)\n",
        "print(var.strip())\n",
        "#Função split (Separa a string e transforma em lista)\n",
        "var = \"Thiago Mânica Monteiro\"\n",
        "print(var)\n",
        "print(type(var))\n",
        "print(var.split()) #parâmetro default: \" \"\n",
        "print(type(var.split()))\n",
        "#Função find (busca de substrings)\n",
        "print(var.find(\"Monteiro\")) #Retorna o índice da primeira ocorrência / -1 se não encontrar\n",
        "print(var.find(\"Monasterio\"))\n",
        "#Função replace\n",
        "var = var.replace(\"Monteiro\", \"Monastério\")\n",
        "print(var)"
      ],
      "execution_count": 0,
      "outputs": []
    },
    {
      "cell_type": "markdown",
      "metadata": {
        "id": "IX8zOEyBTBAS",
        "colab_type": "text"
      },
      "source": [
        "##Functions"
      ]
    },
    {
      "cell_type": "code",
      "metadata": {
        "id": "nGWEutySTCoE",
        "colab_type": "code",
        "colab": {}
      },
      "source": [
        "def soma(x, y):\n",
        "\treturn x + y\n",
        "s = soma(2, 3)\n",
        "print(s)"
      ],
      "execution_count": 0,
      "outputs": []
    },
    {
      "cell_type": "markdown",
      "metadata": {
        "id": "tKeoW6JJTG8V",
        "colab_type": "text"
      },
      "source": [
        "##File Handling"
      ]
    },
    {
      "cell_type": "code",
      "metadata": {
        "id": "wppPgvJUTT_I",
        "colab_type": "code",
        "outputId": "274f7273-b589-4594-a73b-619f886219ec",
        "colab": {
          "base_uri": "https://localhost:8080/",
          "height": 54
        }
      },
      "source": [
        "'''\n",
        "Função open\n",
        "variavel = open(nome, modo)\n",
        "nome - nome do arquivo\n",
        "modo - r: somente leitura (default)\n",
        "\t\tw: escrita (caso o arquivo já exista, ele será apagado e um novo arquivo vazio será criado)\n",
        "\t\ta: leitura e escrita (adiciona o novo conteúdo ao fim do arquivo)\n",
        "\t\tr+: leitura e escrita\n",
        "\t\tw+: escrita (o modo w+, assim como o w, também apaga o conteúdo anterior do arquivo)\n",
        "\t\ta+: leitura e escrita (abre o arquivo para atualização)\n",
        "Funções de leitura - read() - readline() - readlines()\n",
        "read() - lê o arquivo inteiro\n",
        "readline() - lê uma linha do arquivo\n",
        "readlines() - lê as linhas do arquivo e armazena em uma lista\n",
        "Função de escrita - write()\n",
        "'''\n",
        "#Descomentar esta área para executar\n",
        "# arquivo = open(\"arquivoteste.txt\", \"r\")\n",
        "\n",
        "# linhas = arquivo.readlines()\n",
        "# for linha in linhas:\n",
        "# \tprint(linha)\n",
        "# arquivo.close()\n",
        "\n",
        "# #readline lê somente uma linha por vez - é o menos usado\n",
        "# arquivo = open(\"arquivotestecriado.txt\", \"w\")\n",
        "# arquivo.write(\"Este arquivo foi criado pelo código\\n\")\n",
        "# arquivo.close()"
      ],
      "execution_count": 0,
      "outputs": [
        {
          "output_type": "execute_result",
          "data": {
            "text/plain": [
              "'\\nFunção open\\nvariavel = open(nome, modo)\\nnome - nome do arquivo\\nmodo - r: somente leitura (default)\\n\\t\\tw: escrita (caso o arquivo já exista, ele será apagado e um novo arquivo vazio será criado)\\n\\t\\ta: leitura e escrita (adiciona o novo conteúdo ao fim do arquivo)\\n\\t\\tr+: leitura e escrita\\n\\t\\tw+: escrita (o modo w+, assim como o w, também apaga o conteúdo anterior do arquivo)\\n\\t\\ta+: leitura e escrita (abre o arquivo para atualização)\\nFunções de leitura - read() - readline() - readlines()\\nread() - lê o arquivo inteiro\\nreadline() - lê uma linha do arquivo\\nreadlines() - lê as linhas do arquivo e armazena em uma lista\\nFunção de escrita - write()\\n'"
            ]
          },
          "metadata": {
            "tags": []
          },
          "execution_count": 21
        }
      ]
    },
    {
      "cell_type": "markdown",
      "metadata": {
        "id": "U2XeEBDkXnH3",
        "colab_type": "text"
      },
      "source": [
        "##Lists"
      ]
    },
    {
      "cell_type": "code",
      "metadata": {
        "id": "XcO6bTBKXpMw",
        "colab_type": "code",
        "colab": {}
      },
      "source": [
        "minha_lista = [1, 2, 2.5, \"abacaxi\", True, False]\n",
        "minha_lista_vazia = []\n",
        "print(minha_lista)\n",
        "print(minha_lista_vazia)\n",
        "\n",
        "for item in minha_lista:\n",
        "\tprint(item)\n",
        "\n",
        "#Função len - tamanho da lista\n",
        "tamanho = len(minha_lista)\n",
        "print(tamanho)\n",
        "#Encontrar um elemento na lista\n",
        "if 2.5 in minha_lista:\n",
        "\tprint(\"Yes!\")\n",
        "#Função append - insere elemento no final da lista\n",
        "minha_lista.append(\"limão\")\n",
        "print(minha_lista)\n",
        "#Função del - remove elemento(s) da lista\n",
        "del minha_lista[0] #remove o item de índice 0\n",
        "print(minha_lista)\n",
        "del minha_lista[3:] #remove do índice 3 até o final\n",
        "print(minha_lista)\n",
        "del minha_lista[:] #remove todos os itens da lista, deixando vazia\n",
        "print(minha_lista)\n",
        "\n",
        "#Como ordenar listas\n",
        "minha_lista = [9, 6, 5, 3, 7, 2, 1, 4, 8]\n",
        "minha_lista2 = [\"c\", \"b\", \"d\", \"a\", \"f\", \"e\"]\n",
        "print(minha_lista)\n",
        "print(minha_lista2)\n",
        "#Método sort - altera a lista original\n",
        "minha_lista.sort()\n",
        "minha_lista2.sort()\n",
        "print(minha_lista)\n",
        "print(minha_lista2)\n",
        "#Função sorted - retorna uma lista ordenada, não alterando a original\n",
        "minha_lista = [9, 6, 5, 3, 7, 2, 1, 4, 8]\n",
        "print(minha_lista)\n",
        "lista_ordenada = sorted(minha_lista)\n",
        "print(lista_ordenada)\n",
        "print(minha_lista)\n",
        "#Ordenar de forma decrescente\n",
        "minha_lista.sort(reverse=True)\n",
        "print(minha_lista)\n",
        "#Método reverse - inverte a lista \n",
        "minha_lista.reverse()\n",
        "print(minha_lista)"
      ],
      "execution_count": 0,
      "outputs": []
    },
    {
      "cell_type": "markdown",
      "metadata": {
        "id": "E7_VuD_vAEge",
        "colab_type": "text"
      },
      "source": [
        "##Sets"
      ]
    },
    {
      "cell_type": "code",
      "metadata": {
        "id": "74W78ARJAJ_C",
        "colab_type": "code",
        "colab": {}
      },
      "source": [
        "#Sets only permit unique values\n",
        "s = set()\n",
        "s.add(1)\n",
        "s.add(3)\n",
        "s.add(5)\n",
        "s.add(3)\n",
        "print(s)"
      ],
      "execution_count": 0,
      "outputs": []
    },
    {
      "cell_type": "markdown",
      "metadata": {
        "id": "9sB5hPXFXvih",
        "colab_type": "text"
      },
      "source": [
        "##Dictionaries"
      ]
    },
    {
      "cell_type": "code",
      "metadata": {
        "id": "QOKnsJfeXzfb",
        "colab_type": "code",
        "colab": {}
      },
      "source": [
        "# Listas de associações compostas por:\n",
        "# -uma chave\n",
        "# -um valor correspondente\n",
        "# dicionário = {'chave': 'valor'}\n",
        "\n",
        "dicionario = {\"Thiago\": \"30\", \"Marcelo\": \"50\", \"Patrícia\": \"40\"}\n",
        "print(dicionario)\n",
        "print(dicionario[\"Patrícia\"])\n",
        "#Imprime as chaves\n",
        "for chave in dicionario:\n",
        "\tprint(chave)\n",
        "#Imprime os valores\n",
        "for chave in dicionario:\n",
        "\tprint(dicionario[chave])\n",
        "#Imprime de forma personalizada\n",
        "for chave in dicionario:\n",
        "\tprint(chave + \" - \" + dicionario[chave])\n",
        "#Função items() - converte cada par do dicionário em uma tupla\n",
        "for i in dicionario.items():\n",
        "\tprint(i)\n",
        "#Método values() - retorna apenas os valores\n",
        "for valor in dicionario.values():\n",
        "\tprint(valor)\n",
        "#Método keys() - retorna apenas as chaves\n",
        "for chave in dicionario.keys():\n",
        "\tprint(chave)"
      ],
      "execution_count": 0,
      "outputs": []
    },
    {
      "cell_type": "markdown",
      "metadata": {
        "id": "X8hovhDyYHi2",
        "colab_type": "text"
      },
      "source": [
        "\n",
        "##Random Numbers"
      ]
    },
    {
      "cell_type": "code",
      "metadata": {
        "id": "slKxaGRzYJtv",
        "colab_type": "code",
        "outputId": "09acdc9c-5930-4195-80a6-ee372543f59a",
        "colab": {
          "base_uri": "https://localhost:8080/",
          "height": 51
        }
      },
      "source": [
        "import random #módulo/lib python que gera números aleatórios\n",
        "\n",
        "# Método randint(&num_inicial, &num_final) - gera um número aleatório de um range escolhido\n",
        "# num_inicial: Primeiro número possível aleatório\n",
        "# num_final: Último número possível aleatório\n",
        "\n",
        "num = random.randint(0,10)\n",
        "print(num)\n",
        "\n",
        "\n",
        "# Métudo choice(&lista) - Gera um número aleatório a partir de uma lista pré-definida\n",
        "\n",
        "minha_lista = [5, 7, 9, 13, 15]\n",
        "num = random.choice(minha_lista)\n",
        "print(num)"
      ],
      "execution_count": 0,
      "outputs": [
        {
          "output_type": "stream",
          "text": [
            "3\n",
            "13\n"
          ],
          "name": "stdout"
        }
      ]
    },
    {
      "cell_type": "markdown",
      "metadata": {
        "id": "21XVwPgyYfq9",
        "colab_type": "text"
      },
      "source": [
        "\n",
        "##Exception Handling"
      ]
    },
    {
      "cell_type": "code",
      "metadata": {
        "id": "Tco9DqFvYkm-",
        "colab_type": "code",
        "colab": {}
      },
      "source": [
        "a = 2\n",
        "b = 0\n",
        "try:\n",
        "\tprint(a/b)\n",
        "except:\n",
        "\tprint(\"Não é permitido divisão por 0!\")\n",
        "print(\"Aqui continua a execução normalmente\")"
      ],
      "execution_count": 0,
      "outputs": []
    },
    {
      "cell_type": "markdown",
      "metadata": {
        "id": "uopdDlKLYpxe",
        "colab_type": "text"
      },
      "source": [
        "##Python 2 vs. Python 3"
      ]
    },
    {
      "cell_type": "code",
      "metadata": {
        "id": "4ERatHJvYtO2",
        "colab_type": "code",
        "colab": {}
      },
      "source": [
        "# Não muda muita coisa na prática. Python 3 possui melhor performance. Quanto a sintaxe, destaco apenas dois pontos:\n",
        "# 1) Comando print()\n",
        "# Ao executar o print, em Python 3, os parênteses passam a ser obrigatórios:\n",
        "# # Python 2\n",
        "# print \"Olá mundo\"\n",
        "# # Python 3\n",
        "# print(\"Olá mundo\")\n",
        "# Para printar uma entrada do usuário junto com uma string, devemos colocar a letra f na frente: print(f\"Hello, {name}!\")\n",
        "# 2) Comando input()\n",
        "# Em Python 2 há duas variações do comando input:\n",
        "# raw_input() #strings\n",
        "# input() # valores numéricos\n",
        "# Em python 3, deve-se usar apenas input() para strings, e para números deve-se combinar com as funções float ou int. Veja:\n",
        "# # Recebendo textos\n",
        "# meu_texto = input(\"Digite um texto: \")\n",
        "# # Recebendo números\n",
        "# numero_inteiro = int(input(\"Digite um numero inteiro: \"))\n",
        "# numero_decimal = float(input(\"Digite um numero decimal: \"))\n",
        "# O Sublime Text não aceita o comando input(), e você receberá uma mensagem como \"EOFError: EOF when reading a line\". \n",
        "# Esse comando só funciona no terminal/cmd. Você pode inserir o valor diretamente na variável, caso use sublime text.\n",
        "# Ou instalar este pacote, para funcionar no Sublime (siga este vídeo):\n",
        "# https://www.youtube.com/watch?v=R5-niid0m8A\n"
      ],
      "execution_count": 0,
      "outputs": []
    },
    {
      "cell_type": "markdown",
      "metadata": {
        "id": "vm8spaJoY4HK",
        "colab_type": "text"
      },
      "source": [
        "##List Comprehension"
      ]
    },
    {
      "cell_type": "code",
      "metadata": {
        "id": "ckjSupkYZAE1",
        "colab_type": "code",
        "colab": {}
      },
      "source": [
        "x = [1, 2, 3, 4, 5]\n",
        "# y = [valor_a_adicionar laço condição]\n",
        "\n",
        "y = [i**2 for i in x]\n",
        "print(x)\n",
        "print(y)\n",
        "z = [i for i in x if i%2 == 1]\n",
        "print(z)"
      ],
      "execution_count": 0,
      "outputs": []
    },
    {
      "cell_type": "markdown",
      "metadata": {
        "id": "p6N5UZEDZDpo",
        "colab_type": "text"
      },
      "source": [
        "##Função enumerate"
      ]
    },
    {
      "cell_type": "code",
      "metadata": {
        "id": "Tp_PtDejZFb9",
        "colab_type": "code",
        "colab": {}
      },
      "source": [
        "lista = [\"abacate\", \"bola\", \"cachorro\"]\n",
        "\n",
        "for i, nome in enumerate(lista):\n",
        "\tprint(i, nome)"
      ],
      "execution_count": 0,
      "outputs": []
    },
    {
      "cell_type": "markdown",
      "metadata": {
        "id": "98Ip_fksZHvb",
        "colab_type": "text"
      },
      "source": [
        "##Função map"
      ]
    },
    {
      "cell_type": "code",
      "metadata": {
        "id": "kBjixQcNZKIv",
        "colab_type": "code",
        "colab": {}
      },
      "source": [
        "def dobro(x):\n",
        "\treturn x*2\n",
        "\n",
        "valor = 2\n",
        "print(dobro(valor))\n",
        "lista_valores = [1, 2, 3, 4, 5]\n",
        "print(dobro(lista_valores)) #duplica a lista\n",
        "\n",
        "valor_dobrado = map(dobro, lista_valores)\n",
        "valor_dobrado = list(valor_dobrado)\n",
        "print(valor_dobrado)"
      ],
      "execution_count": 0,
      "outputs": []
    },
    {
      "cell_type": "markdown",
      "metadata": {
        "id": "W27nsT4vZNQg",
        "colab_type": "text"
      },
      "source": [
        "##Função reduce"
      ]
    },
    {
      "cell_type": "code",
      "metadata": {
        "id": "bIN0xPdiZO5X",
        "colab_type": "code",
        "colab": {}
      },
      "source": [
        "from functools import reduce\n",
        "def soma(x,y):\n",
        "\treturn x+y\n",
        "\n",
        "lista = [10, 20, 30]\n",
        "\n",
        "soma = reduce(soma, lista)\n",
        "\n",
        "print(soma)"
      ],
      "execution_count": 0,
      "outputs": []
    },
    {
      "cell_type": "markdown",
      "metadata": {
        "id": "D2V3xDMpZV1E",
        "colab_type": "text"
      },
      "source": [
        "##Função zip\n"
      ]
    },
    {
      "cell_type": "code",
      "metadata": {
        "id": "_MN7Un9kZYqv",
        "colab_type": "code",
        "colab": {}
      },
      "source": [
        "lista1 = [1, 2, 3, 4]\n",
        "lista2 = [\"abacate\", \"bola\", \"cachorro\", \"dinheiro\"]\n",
        "lista3 = [\"R$2,00\", \"R$3,00\", \"R$500,00\", \"R$3,00\"]\n",
        "\n",
        "for numero, nome, valor in zip(lista1, lista2, lista3):\n",
        "\tprint(numero, nome, valor)"
      ],
      "execution_count": 0,
      "outputs": []
    },
    {
      "cell_type": "markdown",
      "metadata": {
        "id": "yAR1IRcSZaEq",
        "colab_type": "text"
      },
      "source": [
        "##Função filter"
      ]
    },
    {
      "cell_type": "code",
      "metadata": {
        "id": "bpIITS-8Zbv8",
        "colab_type": "code",
        "outputId": "4dcee835-2aa4-4385-a465-9e7c2a3040f7",
        "colab": {
          "base_uri": "https://localhost:8080/",
          "height": 34
        }
      },
      "source": [
        "def pares(i):\n",
        "\tif i%2 == 0:\n",
        "\t\treturn i\n",
        "lista = [1,2,3,4,5,6,7,8,9,10]\n",
        "\n",
        "lista_pares = filter(pares, lista)\n",
        "print(list(lista_pares))"
      ],
      "execution_count": 0,
      "outputs": [
        {
          "output_type": "stream",
          "text": [
            "[2, 4, 6, 8, 10]\n"
          ],
          "name": "stdout"
        }
      ]
    }
  ]
}