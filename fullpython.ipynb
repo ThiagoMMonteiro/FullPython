{
  "nbformat": 4,
  "nbformat_minor": 0,
  "metadata": {
    "colab": {
      "name": "fullpython.ipynb",
      "provenance": [],
      "collapsed_sections": [],
      "authorship_tag": "ABX9TyOBZxn0cXpuU+Wb+9kKFwHz",
      "include_colab_link": true
    },
    "kernelspec": {
      "name": "python3",
      "display_name": "Python 3"
    }
  },
  "cells": [
    {
      "cell_type": "markdown",
      "metadata": {
        "id": "view-in-github",
        "colab_type": "text"
      },
      "source": [
        "<a href=\"https://colab.research.google.com/github/ThiagoMMonteiro/FullPython/blob/master/fullpython.ipynb\" target=\"_parent\"><img src=\"https://colab.research.google.com/assets/colab-badge.svg\" alt=\"Open In Colab\"/></a>"
      ]
    },
    {
      "cell_type": "markdown",
      "metadata": {
        "id": "o3mr29FxOqRj",
        "colab_type": "text"
      },
      "source": [
        "[![author](https://img.shields.io/badge/Author-thiagommonteiro-blue)](https://www.linkedin.com/in/thiago-m-monteiro/) "
      ]
    },
    {
      "cell_type": "code",
      "metadata": {
        "id": "a-Olhzq01xde",
        "colab_type": "code",
        "colab": {}
      },
      "source": [
        "# -*- coding: utf-8 -*- (python interpreter recognize accents)"
      ],
      "execution_count": 0,
      "outputs": []
    },
    {
      "cell_type": "markdown",
      "metadata": {
        "id": "IpnrESmXATfg",
        "colab_type": "text"
      },
      "source": [
        "## **Comments**"
      ]
    },
    {
      "cell_type": "code",
      "metadata": {
        "id": "ndjQPKBl2EG8",
        "colab_type": "code",
        "colab": {}
      },
      "source": [
        "# One line comentary exemple\n",
        "\n",
        "#Multiple lines comentary exemple\n",
        "#Multiple lines comentary exemple\n",
        "#Multiple lines comentary exemple\n",
        "\n",
        "\"\"\"\n",
        "Docstrings exemple\n",
        "\"\"\""
      ],
      "execution_count": 0,
      "outputs": []
    },
    {
      "cell_type": "markdown",
      "metadata": {
        "id": "bzACsSGTAkJv",
        "colab_type": "text"
      },
      "source": [
        "##Arithmetic Operators"
      ]
    },
    {
      "cell_type": "code",
      "metadata": {
        "id": "7W-BFfGz2IFZ",
        "colab_type": "code",
        "colab": {}
      },
      "source": [
        "print (2 + 2)  #addition\n",
        "print (2 - 2)  #subtraction\n",
        "print (2 / 2)  #division\n",
        "print (2 * 2)  #multiplication\n",
        "print (2 ** 3) #exponentiation\n",
        "print (3 % 2)  #module - rest\n",
        "print (5 // 2) #floor division"
      ],
      "execution_count": 0,
      "outputs": []
    },
    {
      "cell_type": "markdown",
      "metadata": {
        "id": "DF_UkowjEudN",
        "colab_type": "text"
      },
      "source": [
        "##Relational Operators"
      ]
    },
    {
      "cell_type": "code",
      "metadata": {
        "id": "OTrB1j21Ew4W",
        "colab_type": "code",
        "colab": {}
      },
      "source": [
        "# == equal\n",
        "# != not equal\n",
        "# > greater than\n",
        "# < less than\n",
        "# >= greater than or equal to\n",
        "# <= less than or equal to"
      ],
      "execution_count": 0,
      "outputs": []
    },
    {
      "cell_type": "markdown",
      "metadata": {
        "id": "IqhrFaiyFanc",
        "colab_type": "text"
      },
      "source": [
        "##Assignment Operators"
      ]
    },
    {
      "cell_type": "code",
      "metadata": {
        "id": "c7qr--C2FdcC",
        "colab_type": "code",
        "colab": {}
      },
      "source": [
        "# = assign\n",
        "# += add and assign\n",
        "# -= subtract and assign\n",
        "# /= divide and assign\n",
        "# *= multiply and assign\n",
        "# %= modulus and assign\n",
        "# **= exponent and assign\n",
        "# //= floor-divide and assign"
      ],
      "execution_count": 0,
      "outputs": []
    },
    {
      "cell_type": "markdown",
      "metadata": {
        "id": "KMa8B57eGD0_",
        "colab_type": "text"
      },
      "source": [
        "##Logical Operators"
      ]
    },
    {
      "cell_type": "code",
      "metadata": {
        "id": "XXrSOL9qGGfq",
        "colab_type": "code",
        "colab": {}
      },
      "source": [
        "# and - both sides must be true to return true\n",
        "# or - one side must be true to return true\n",
        "# not - inverter"
      ],
      "execution_count": 0,
      "outputs": []
    },
    {
      "cell_type": "markdown",
      "metadata": {
        "id": "2RtmZU8AGqCl",
        "colab_type": "text"
      },
      "source": [
        "##Membership Operators"
      ]
    },
    {
      "cell_type": "code",
      "metadata": {
        "id": "fXDAusviGtGW",
        "colab_type": "code",
        "colab": {}
      },
      "source": [
        "# in - checks if a value is a member of a sequence\n",
        "# not in - checks if a value is not a member of a sequence"
      ],
      "execution_count": 0,
      "outputs": []
    },
    {
      "cell_type": "markdown",
      "metadata": {
        "id": "WOwN6Pl7HGq1",
        "colab_type": "text"
      },
      "source": [
        "##Identity Operators"
      ]
    },
    {
      "cell_type": "code",
      "metadata": {
        "id": "PQG7WgolHIS7",
        "colab_type": "code",
        "colab": {}
      },
      "source": [
        "# is - checks if two operands have the same identity\n",
        "# is not - checks if two operands not have the same identity"
      ],
      "execution_count": 0,
      "outputs": []
    },
    {
      "cell_type": "markdown",
      "metadata": {
        "id": "P1ve9zS5HlvS",
        "colab_type": "text"
      },
      "source": [
        "##Bitwise Operators"
      ]
    },
    {
      "cell_type": "code",
      "metadata": {
        "id": "E_4q450JHnNw",
        "colab_type": "code",
        "colab": {}
      },
      "source": [
        "# & - binary AND\n",
        "# | - binary OR\n",
        "# ^ - binary XOR\n",
        "# ~ - binary one's complement\n",
        "# << - binary left-shift\n",
        "# >> - binary right-shift"
      ],
      "execution_count": 0,
      "outputs": []
    },
    {
      "cell_type": "markdown",
      "metadata": {
        "id": "WnHoyU-xC0Al",
        "colab_type": "text"
      },
      "source": [
        "##Variables"
      ]
    },
    {
      "cell_type": "code",
      "metadata": {
        "id": "q8uJv_q1C5xq",
        "colab_type": "code",
        "colab": {}
      },
      "source": [
        "variable = 47 #int\n",
        "print(type(variable)) \n",
        "variable = 47.55 #flaot\n",
        "print(type(variable)) \n",
        "variable = \"47.55\" #str\n",
        "print(type(variable))\n",
        "variable = '47.55' #str\n",
        "print(type(variable))\n",
        "variable = True #bool\n",
        "print(type(variable))\n",
        "variable = [1, 2, 3, \"abacaxi\", 5.55, True] #list\n",
        "print(type(variable))"
      ],
      "execution_count": 0,
      "outputs": []
    }
  ]
}