{
  "nbformat": 4,
  "nbformat_minor": 0,
  "metadata": {
    "colab": {
      "name": "fullpython.ipynb",
      "provenance": [],
      "collapsed_sections": [],
      "authorship_tag": "ABX9TyO5k/hwrwFwT3U6w+Y7oiyU",
      "include_colab_link": true
    },
    "kernelspec": {
      "name": "python3",
      "display_name": "Python 3"
    }
  },
  "cells": [
    {
      "cell_type": "markdown",
      "metadata": {
        "id": "view-in-github",
        "colab_type": "text"
      },
      "source": [
        "<a href=\"https://colab.research.google.com/github/ThiagoMMonteiro/FullPython/blob/master/fullpython.ipynb\" target=\"_parent\"><img src=\"https://colab.research.google.com/assets/colab-badge.svg\" alt=\"Open In Colab\"/></a>"
      ]
    },
    {
      "cell_type": "code",
      "metadata": {
        "id": "a-Olhzq01xde",
        "colab_type": "code",
        "colab": {}
      },
      "source": [
        "# -*- coding: utf-8 -*- (python interpreter recognize accents)"
      ],
      "execution_count": 0,
      "outputs": []
    },
    {
      "cell_type": "markdown",
      "metadata": {
        "id": "IpnrESmXATfg",
        "colab_type": "text"
      },
      "source": [
        "## **Comments**"
      ]
    },
    {
      "cell_type": "code",
      "metadata": {
        "id": "ndjQPKBl2EG8",
        "colab_type": "code",
        "outputId": "8d52c623-b46a-4a29-a5a9-d45d6eb626d5",
        "colab": {
          "base_uri": "https://localhost:8080/",
          "height": 34
        }
      },
      "source": [
        "# One line comentary exemple\n",
        "\n",
        "#Multiple lines comentary exemple\n",
        "#Multiple lines comentary exemple\n",
        "#Multiple lines comentary exemple\n",
        "\n",
        "\"\"\"\n",
        "Docstrings exemple\n",
        "\"\"\""
      ],
      "execution_count": 0,
      "outputs": [
        {
          "output_type": "execute_result",
          "data": {
            "text/plain": [
              "'\\nDocstrings exemple\\n'"
            ]
          },
          "metadata": {
            "tags": []
          },
          "execution_count": 1
        }
      ]
    },
    {
      "cell_type": "markdown",
      "metadata": {
        "id": "bzACsSGTAkJv",
        "colab_type": "text"
      },
      "source": [
        "##Math Operations"
      ]
    },
    {
      "cell_type": "code",
      "metadata": {
        "id": "7W-BFfGz2IFZ",
        "colab_type": "code",
        "colab": {}
      },
      "source": [
        "print (2 + 2)  #sum\n",
        "print (2 - 2)  #subtraction\n",
        "print (2 / 2)  #division\n",
        "print (2 * 2)  #multiplication\n",
        "print (2 ** 3) #exponentiation\n",
        "print (3 % 2)  #module - rest"
      ],
      "execution_count": 0,
      "outputs": []
    }
  ]
}